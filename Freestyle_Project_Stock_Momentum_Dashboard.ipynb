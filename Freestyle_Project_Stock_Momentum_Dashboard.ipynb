{
  "cells": [
    {
      "cell_type": "markdown",
      "metadata": {
        "id": "view-in-github",
        "colab_type": "text"
      },
      "source": [
        "<a href=\"https://colab.research.google.com/github/abhinavchandrav/2335freestyleproj/blob/main/Freestyle_Project_Stock_Momentum_Dashboard.ipynb\" target=\"_parent\"><img src=\"https://colab.research.google.com/assets/colab-badge.svg\" alt=\"Open In Colab\"/></a>"
      ]
    },
    {
      "cell_type": "markdown",
      "metadata": {
        "id": "Nt4JHIjW5Sc7"
      },
      "source": [
        "# Setup"
      ]
    },
    {
      "cell_type": "code",
      "execution_count": null,
      "metadata": {
        "id": "IgN2IJaNaxaY",
        "colab": {
          "base_uri": "https://localhost:8080/"
        },
        "outputId": "36dbcba0-5f60-4b4d-9056-979bac7ae151"
      },
      "outputs": [
        {
          "output_type": "stream",
          "name": "stdout",
          "text": [
            "$4.50\n",
            "$200,001.00\n"
          ]
        }
      ],
      "source": [
        "#\n",
        "# SETUP CELL 1\n",
        "# ... run this cell to define a dollar-sign formatting function, so you can use it later\n",
        "\n",
        "def to_usd(my_price):\n",
        "    \"\"\"\n",
        "    Converts a numeric value to usd-formatted string, for printing and display purposes.\n",
        "    \n",
        "    Param: my_price (int or float) like 4000.444444\n",
        "    \n",
        "    Example: to_usd(4000.444444)\n",
        "    \n",
        "    Returns: $4,000.44\n",
        "    \"\"\"\n",
        "    return f\"${my_price:,.2f}\" \n",
        "\n",
        "print(to_usd(4.5))\n",
        "print(to_usd(200000.9999))"
      ]
    },
    {
      "cell_type": "code",
      "execution_count": null,
      "metadata": {
        "colab": {
          "base_uri": "https://localhost:8080/"
        },
        "id": "FzzR6Rw_KNA4",
        "outputId": "38da0e52-a3b7-4141-97d0-3768c69200d1"
      },
      "outputs": [
        {
          "output_type": "stream",
          "name": "stdout",
          "text": [
            "50.0000%\n",
            "95.5556%\n"
          ]
        }
      ],
      "source": [
        "#\n",
        "# SETUP CELL 2\n",
        "# ... run this cell to define a percent-sign formatting function, so you can use it later\n",
        "\n",
        "def to_pct(my_number):\n",
        "    \"\"\"\n",
        "    Formats a decimal number as a percentage, rounded to 4 decimal places, with a percent sign.\n",
        "    \n",
        "    Param my_number (float) like 0.95555555555\n",
        "    \n",
        "    Returns (str) like '95.5556%'\n",
        "    \"\"\"\n",
        "    return f\"{(my_number * 100):.4f}%\"\n",
        "\n",
        "\n",
        "print(to_pct(0.5))\n",
        "print(to_pct(.955555555))"
      ]
    },
    {
      "cell_type": "code",
      "execution_count": null,
      "metadata": {
        "id": "p8zJbagUpyJ-",
        "colab": {
          "base_uri": "https://localhost:8080/"
        },
        "outputId": "8a822a77-6888-4358-c9d4-a69f2cdf7420"
      },
      "outputs": [
        {
          "name": "stdout",
          "output_type": "stream",
          "text": [
            "Please input your AlphaVantage API Key: ··········\n"
          ]
        }
      ],
      "source": [
        "#\n",
        "# SETUP CELL 3\n",
        "# ... uncomment the code below and run this cell to securely ask for an API key\n",
        "# ... (for use in the further exploration only)\n",
        "\n",
        "\n",
        "from getpass import getpass\n",
        "api_key = getpass(\"Please input your AlphaVantage API Key: \")"
      ]
    },
    {
      "cell_type": "markdown",
      "metadata": {
        "id": "pe3fw0QxxXx_"
      },
      "source": [
        "# Solution"
      ]
    },
    {
      "cell_type": "markdown",
      "metadata": {
        "id": "0YvtE8jBLUnQ"
      },
      "source": [
        "## Report Generation Function \n"
      ]
    },
    {
      "cell_type": "code",
      "source": [
        "def stock_momentum_report(symbol = \"NFLX\"):\n",
        "    t_csv_filepath = f\"https://www.alphavantage.co/query?function=TREASURY_YIELD&interval=daily&maturity=1year&apikey={api_key}&datatype=csv\"\n",
        "    t_df = read_csv(t_csv_filepath)\n",
        "    csv_filepath = f\"https://www.alphavantage.co/query?function=TIME_SERIES_DAILY_ADJUSTED&symbol={symbol.upper()}&outputsize=full&apikey={api_key}&datatype=csv\"\n",
        "    df = read_csv(csv_filepath)\n",
        "    try: \n",
        "        latest_close = df.iloc[0][\"adjusted_close\"]\n",
        "        earliest_close = df.iloc[251][\"adjusted_close\"]\n",
        "        print(symbol, \"adjusted close price on\", df[\"timestamp\"][0])\n",
        "        print(symbol, \"adjusted close price on\", df[\"timestamp\"][251])\n",
        "        p_change = ((latest_close - earliest_close) / earliest_close) * 100\n",
        "        print(\"percent change in\", symbol, (p_change))\n",
        "        #print(t_df)\n",
        "        #print(len(t_df))\n",
        "        t_df.replace(\".\", float(\"NaN\"), inplace=True)\n",
        "        t_df.dropna(inplace = True) \n",
        "        #print(len(t_df))\n",
        "        t_yield = t_df.iloc[260][\"value\"]\n",
        "        print(\"Treasury yield is\", (t_yield)\n",
        "        #print(type(t_yeild))\n",
        "        #print(type(p_change))\n",
        "        if p_change > float(t_yield):\n",
        "            print(f\"{symbol.upper()} has positive momentum.\")\n",
        "            print(f\"Recommendation: Invest in {symbol.upper()}\")\n",
        "        else:\n",
        "            print(f\"{symbol.upper()} has negative momentum.\")\n",
        "            print(\"Recommendation: Invest in Treasury Bills\")\n",
        "    except KeyError:\n",
        "        print(\"OPPS! That ticker is not available.  Please check your symbol and try again.\")"
      ],
      "metadata": {
        "id": "QNKXlfFMDs6a",
        "colab": {
          "base_uri": "https://localhost:8080/",
          "height": 130
        },
        "outputId": "47eb94cc-bfa9-4750-fc98-5ce4aa844bce"
      },
      "execution_count": null,
      "outputs": [
        {
          "output_type": "error",
          "ename": "SyntaxError",
          "evalue": "ignored",
          "traceback": [
            "\u001b[0;36m  File \u001b[0;32m\"<ipython-input-85-34a390b5b220>\"\u001b[0;36m, line \u001b[0;32m22\u001b[0m\n\u001b[0;31m    if p_change > float(t_yield):\u001b[0m\n\u001b[0m                                ^\u001b[0m\n\u001b[0;31mSyntaxError\u001b[0m\u001b[0;31m:\u001b[0m invalid syntax\n"
          ]
        }
      ]
    },
    {
      "cell_type": "code",
      "source": [
        "symbol = input((\"Please enter a ticker:\"))\n",
        "\n",
        "stock_momentum_report(symbol)"
      ],
      "metadata": {
        "colab": {
          "base_uri": "https://localhost:8080/"
        },
        "id": "ISqzT__RELBE",
        "outputId": "94dc3342-7aad-4df5-9c34-3ef7e70a1e64"
      },
      "execution_count": null,
      "outputs": [
        {
          "output_type": "stream",
          "name": "stdout",
          "text": [
            "Please enter a ticker:DIS\n",
            "DIS adjusted close price on 2022-08-09\n",
            "DIS adjusted close price on 2021-08-10\n",
            "percent change in DIS -0.3893375501214209\n",
            "Treasury yield is 1.30\n",
            "DIS has negative momentum.\n",
            "Recommendation: Invest in Treasury Bills\n"
          ]
        }
      ]
    },
    {
      "cell_type": "code",
      "source": [
        "\n",
        "def generate_momentum_report(symbol = \"NFLX\"):\n",
        "    #csv_filepath = f\"https://www.alphavantage.co/query?function=TIME_SERIES_DAILY_ADJUSTED&symbol={symbol.upper()}&apikey={api_key}&datatype=csv\"\n",
        "    #df = read_csv(csv_filepath)\n",
        "    t_csv_filepath = f\"https://www.alphavantage.co/query?function=TREASURY_YIELD&interval=daily&maturity=1year&apikey={api_key}&datatype=csv\"\n",
        "    t_df = read_csv(t_csv_filepath)\n",
        "    #print(type(df))\n",
        "    #print(df.columns)\n",
        "    #print(t_csv_filepath)\n",
        "    #print(t_df)\n",
        "    #print(type(t_df)) \n",
        "    #print(t_df.columns)\n",
        "    try:\n",
        "        print(\"Yield of the Treasury Bill:\", t_df[\"value\"][261])\n",
        "        p_change = (((df[\"adjusted_close\"][0] / df[\"adjusted_close\"][261]) - 1) * 100)\n",
        "        print(df[\"adjusted_close\"][0])\n",
        "        print(df[\"adjusted_close\"][261])\n",
        "        print(\"Percent change of stock:\", p_change)\n",
        "        if p_change > t_df[\"value\"][261]:\n",
        "            print(f\"{symbol.upper()} has positive momentum.  Recommendation: Invest in {symbol.upper()}\")\n",
        "        else:\n",
        "            print(f\"{symbol.upper()} has negative momentum.  Recommendation: Invest in Treasury Bills\")\n",
        "    except KeyError:\n",
        "        print(\"OPPS! That ticker is not available.  Please check your symbol and try again.\")\n",
        "\n"
      ],
      "metadata": {
        "id": "95BLIndi3ZU3"
      },
      "execution_count": null,
      "outputs": []
    },
    {
      "cell_type": "code",
      "source": [
        "symbol = \"NFLX\"\n",
        "csv_filepath = f\"https://www.alphavantage.co/query?function=TIME_SERIES_DAILY_ADJUSTED&symbol={symbol.upper()}&outputsize=full&apikey={api_key}&datatype=csv\"\n",
        "df = read_csv(csv_filepath)\n",
        "#t_csv_filepath = f\"https://www.alphavantage.co/query?function=TREASURY_YIELD&interval=daily&maturity=1year&apikey={api_key}&datatype=csv\"\n",
        "#t_df = read_csv(t_csv_filepath)\n",
        "\n",
        "#print(\"Yield of the Treasury Bill:\", t_df[\"value\"][261])\n",
        "latest_close = df.iloc[0][\"adjusted_close\"]\n",
        "earliest_close = df.iloc[251][\"adjusted_close\"]\n",
        "print(latest_close)\n",
        "print(earliest_close)\n",
        "p_change = (latest_close - earliest_close) / earliest_close\n",
        "print(p_change)\n",
        "#p_change = (((df[\"adjusted_close\"][0] / df[\"adjusted_close\"][-1]) - 1) * 100)\n",
        "#print(df[\"adjusted_close\"][0])\n",
        "#print(df[\"adjusted_close\"][-1])\n",
        "#print(\"Percent change of stock:\", p_change)\n",
        "#if p_change > t_df[\"value\"][261]:\n",
        "#    print(f\"{symbol.upper()} has positive momentum.  Recommendation: Invest in {symbol.upper()}\")\n",
        "#else:\n",
        "#    print(f\"{symbol.upper()} has negative momentum.  Recommendation: Invest in Treasury Bills\")\n"
      ],
      "metadata": {
        "colab": {
          "base_uri": "https://localhost:8080/"
        },
        "id": "eC8tIvC1630T",
        "outputId": "b43fb578-f1ba-4ed2-b076-08b949719a4f"
      },
      "execution_count": null,
      "outputs": [
        {
          "output_type": "stream",
          "name": "stdout",
          "text": [
            "229.94\n",
            "515.84\n",
            "-0.5542416253101737\n"
          ]
        }
      ]
    },
    {
      "cell_type": "code",
      "source": [
        "t_csv_filepath = f\"https://www.alphavantage.co/query?function=TREASURY_YIELD&interval=daily&maturity=1year&apikey={api_key}&datatype=csv\"\n",
        "t_df = read_csv(t_csv_filepath)\n",
        "print(t_df)\n",
        "print(len(t_df))\n",
        "t_df.replace(\".\", float(\"NaN\"), inplace=True)\n",
        "t_df.dropna(inplace = True) \n",
        "print(len(t_df))\n",
        "t_yeild = t_df.iloc[260][\"value\"]\n",
        "print(t_yeild)\n",
        "print(type(t_yeild))\n",
        "print(type(p_change))\n",
        "\n",
        "if p_change > float(t_yeild):\n",
        "    print(f\"{symbol.upper()} has positive momentum.  Recommendation: Invest in {symbol.upper()}\")\n",
        "else:\n",
        "    print(f\"{symbol.upper()} has negative momentum.  Recommendation: Invest in Treasury Bills\")"
      ],
      "metadata": {
        "colab": {
          "base_uri": "https://localhost:8080/"
        },
        "id": "SbpKx6OC8Xi9",
        "outputId": "a8d9142a-b269-47cc-ec82-797a12d306dd"
      },
      "execution_count": null,
      "outputs": [
        {
          "output_type": "stream",
          "name": "stdout",
          "text": [
            "        timestamp value\n",
            "0      2022-08-08  2.77\n",
            "1      2022-08-05  2.83\n",
            "2      2022-08-04  2.68\n",
            "3      2022-08-03  2.73\n",
            "4      2022-08-02  2.75\n",
            "...           ...   ...\n",
            "15805  1962-01-08  4.03\n",
            "15806  1962-01-05  4.02\n",
            "15807  1962-01-04  3.99\n",
            "15808  1962-01-03  4.03\n",
            "15809  1962-01-02  4.06\n",
            "\n",
            "[15810 rows x 2 columns]\n",
            "15810\n",
            "15136\n",
            "1.30\n",
            "<class 'str'>\n",
            "<class 'numpy.float64'>\n",
            "NFLX has negative momentum.  Recommendation: Invest in Treasury Bills\n"
          ]
        }
      ]
    },
    {
      "cell_type": "code",
      "source": [
        "generate_momentum_report()"
      ],
      "metadata": {
        "colab": {
          "base_uri": "https://localhost:8080/",
          "height": 356
        },
        "id": "OMacw67k3pjP",
        "outputId": "8a5b0300-35d9-42bc-e0bd-b3dbd9872eae"
      },
      "execution_count": null,
      "outputs": [
        {
          "output_type": "stream",
          "name": "stdout",
          "text": [
            "Yield of the Treasury Bill: 1.31\n",
            "229.94\n",
            "518.91\n",
            "Percent change of stock: -55.687884218843344\n"
          ]
        },
        {
          "output_type": "error",
          "ename": "TypeError",
          "evalue": "ignored",
          "traceback": [
            "\u001b[0;31m---------------------------------------------------------------------------\u001b[0m",
            "\u001b[0;31mTypeError\u001b[0m                                 Traceback (most recent call last)",
            "\u001b[0;32m<ipython-input-19-19247324fac4>\u001b[0m in \u001b[0;36m<module>\u001b[0;34m()\u001b[0m\n\u001b[0;32m----> 1\u001b[0;31m \u001b[0mgenerate_momentum_report\u001b[0m\u001b[0;34m(\u001b[0m\u001b[0;34m)\u001b[0m\u001b[0;34m\u001b[0m\u001b[0;34m\u001b[0m\u001b[0m\n\u001b[0m",
            "\u001b[0;32m<ipython-input-16-121b89e71f87>\u001b[0m in \u001b[0;36mgenerate_momentum_report\u001b[0;34m(symbol)\u001b[0m\n\u001b[1;32m     17\u001b[0m         \u001b[0mprint\u001b[0m\u001b[0;34m(\u001b[0m\u001b[0mdf\u001b[0m\u001b[0;34m[\u001b[0m\u001b[0;34m\"adjusted_close\"\u001b[0m\u001b[0;34m]\u001b[0m\u001b[0;34m[\u001b[0m\u001b[0;36m261\u001b[0m\u001b[0;34m]\u001b[0m\u001b[0;34m)\u001b[0m\u001b[0;34m\u001b[0m\u001b[0;34m\u001b[0m\u001b[0m\n\u001b[1;32m     18\u001b[0m         \u001b[0mprint\u001b[0m\u001b[0;34m(\u001b[0m\u001b[0;34m\"Percent change of stock:\"\u001b[0m\u001b[0;34m,\u001b[0m \u001b[0mp_change\u001b[0m\u001b[0;34m)\u001b[0m\u001b[0;34m\u001b[0m\u001b[0;34m\u001b[0m\u001b[0m\n\u001b[0;32m---> 19\u001b[0;31m         \u001b[0;32mif\u001b[0m \u001b[0mp_change\u001b[0m \u001b[0;34m>\u001b[0m \u001b[0mt_df\u001b[0m\u001b[0;34m[\u001b[0m\u001b[0;34m\"value\"\u001b[0m\u001b[0;34m]\u001b[0m\u001b[0;34m[\u001b[0m\u001b[0;36m261\u001b[0m\u001b[0;34m]\u001b[0m\u001b[0;34m:\u001b[0m\u001b[0;34m\u001b[0m\u001b[0;34m\u001b[0m\u001b[0m\n\u001b[0m\u001b[1;32m     20\u001b[0m             \u001b[0mprint\u001b[0m\u001b[0;34m(\u001b[0m\u001b[0;34mf\"{symbol.upper()} has positive momentum.  Recommendation: Invest in {symbol.upper()}\"\u001b[0m\u001b[0;34m)\u001b[0m\u001b[0;34m\u001b[0m\u001b[0;34m\u001b[0m\u001b[0m\n\u001b[1;32m     21\u001b[0m         \u001b[0;32melse\u001b[0m\u001b[0;34m:\u001b[0m\u001b[0;34m\u001b[0m\u001b[0;34m\u001b[0m\u001b[0m\n",
            "\u001b[0;31mTypeError\u001b[0m: '>' not supported between instances of 'numpy.ndarray' and 'str'"
          ]
        }
      ]
    },
    {
      "cell_type": "code",
      "execution_count": null,
      "metadata": {
        "id": "5-Kndyk-QGvH"
      },
      "outputs": [],
      "source": [
        "\n",
        "from pandas import read_csv\n",
        "import pandas as pd\n",
        "\n",
        "def generate_stocks_report(symbol = \"NFLX\"):\n",
        "    csv_filepath = f\"https://www.alphavantage.co/query?function=TIME_SERIES_DAILY_ADJUSTED&symbol={symbol.upper()}&apikey={api_key}&datatype=csv\"\n",
        "    df = read_csv(csv_filepath)\n",
        "    t_csv_filepath = f\"https://www.alphavantage.co/query?function=TREASURY_YIELD&interval=monthly&maturity=1year&apikey={api_key}&datatype=csv\"\n",
        "    t_df = read_csv(t_csv_filepath)\n",
        "    #print(csv_filepath) # validated proper symbol was passed through and filepath was correct\n",
        "    #print(df) # validation exercise \n",
        "    print(type(df))\n",
        "    print(df.columns)\n",
        "    print(t_csv_filepath)\n",
        "    print(t_df)\n",
        "    print(type(t_df)) \n",
        "    print(t_df.columns)\n",
        "    try:\n",
        "        print(\"Yield of the Treasury Bill:\", t_df[\"value\"][11])\n",
        "        p_change = (((df[\"adjusted_close\"][0] / df[\"adjusted_close\"][260]) - 1) * 100)\n",
        "        #print(df[\"adjusted_close\"][0])\n",
        "        #print(df[\"adjusted_close\"][364])\n",
        "        print(\"Percent change of stock:\", p_change)\n",
        "    except KeyError:\n",
        "        print(\"OPPS! That ticker is not available.  Please check your symbol and try again.\")\n",
        "    if p_change > t_df[\"value\"][11]:\n",
        "        print(f\"{symbol.upper()} has positive momentum.  Recommendation: Invest in {symbol.upper()}\")\n",
        "    else:\n",
        "        print(f\"{symbol.upper()} has negative momentum.  Recommendation: Invest in Treasury Bills\")\n"
      ]
    }
  ],
  "metadata": {
    "colab": {
      "collapsed_sections": [
        "gAn-noRWuwvN"
      ],
      "name": "Freestyle Project:Stock Momentum Dashboard",
      "provenance": [],
      "include_colab_link": true
    },
    "kernelspec": {
      "display_name": "Python 3",
      "name": "python3"
    },
    "language_info": {
      "name": "python"
    }
  },
  "nbformat": 4,
  "nbformat_minor": 0
}